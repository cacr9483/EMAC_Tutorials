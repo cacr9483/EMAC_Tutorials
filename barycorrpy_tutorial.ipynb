{
 "cells": [
  {
   "cell_type": "markdown",
   "metadata": {},
   "source": [
    "This notebook will be used to test and demo Barycorrpy: Precise Barycentric Correction for Stellar and Solar Radial Velocities and Time-stamps. The notebook is by the Barrycorrpy team (Shubham Kanodia, Jason Wright, Joe Ninan) and has been edited by Carlos E. Cruz-Arce based on https://github.com/shbhuk/barycorrpy .The orginal notebook can be found here: https://github.com/shbhuk/barycorrpy/wiki/02.-Getting-Started"
   ]
  },
  {
   "cell_type": "code",
   "execution_count": 4,
   "metadata": {},
   "outputs": [],
   "source": [
    "#How to install\n",
    "#pip install barycorrpy\n",
    "#import barycorrpy\n",
    "#print (barycorrpy.__version__) \n",
    "\n",
    "# version 0.3.4 is installed which includes:\n",
    "## barycentric corrections for Solar observations,\n",
    "### as well as reflected light observations from other Solar system \n",
    "#### objects such as Vesta, Ceres, etc."
   ]
  },
  {
   "cell_type": "markdown",
   "metadata": {},
   "source": [
    "Barycorrpy can be used to calculate the barycentric velocity correction for a star with an accuracy of < 1 cm/s . To do this, it takes the following into consideration:\n",
    "\n",
    "1. Revolution of the Earth to consider position and velocity of the geocenter with respect to the Solar System barycenter\n",
    "2. Rotation of the Earth\n",
    "3. Precession, nutation and polar motion of the Earth, along with the above to calculate the position and velocity of the observatory with respect to the geocenter\n",
    "4. Gravitational time dilation due to objects of the Solar System\n",
    "5. Leap second offset\n",
    "6. Proper motion and systemic radial velocity of the star\n",
    "7. Parallax\n",
    "8. Shapiro delay (a special case of gravitational time dilation)"
   ]
  },
  {
   "cell_type": "markdown",
   "metadata": {},
   "source": [
    "We will work off the sample script that comes with the package.\n",
    "Before we start double check that you have all dependencies installed:\n",
    "1. astropy version >= 3.2.3\n",
    "2. numpy version >=1.17.2\n",
    "3. scipy\n",
    "4. jplephem\n",
    "5. astroquery version >= 0.3.10\n",
    "\n",
    "pip installing barycorrpy should automatically update/install all of these packages but it's always good to be sure."
   ]
  },
  {
   "cell_type": "markdown",
   "metadata": {},
   "source": [
    "What we will do is show the various ways barycorrpy can obtain the barycentric corrected RV"
   ]
  },
  {
   "cell_type": "code",
   "execution_count": 5,
   "metadata": {},
   "outputs": [],
   "source": [
    "#Import all the modules you'll need\n",
    "from __future__ import print_function\n",
    "from __future__ import division\n",
    "from astropy.time import Time\n",
    "import numpy as np\n",
    "from barycorrpy import get_BC_vel , exposure_meter_BC_vel , utc_tdb "
   ]
  },
  {
   "cell_type": "code",
   "execution_count": 6,
   "metadata": {},
   "outputs": [],
   "source": [
    "#Create a function to run a sample\n",
    "def run_sample():\n",
    "        a=[]\n",
    "        b=0\n",
    "\n",
    "        JDUTC = 2458000 # Also accepts float input for JDUTC. Verify scale and format\n",
    "\n",
    "        # Observation of Tau Ceti taken from CTIO (Cerro Tololo Inter-American Observatory) on JD 2458000. \n",
    "        # Observatory location manually entered. Stellar positional parameters taken from Hipparcos Catalogue\n",
    "        result = get_BC_vel(JDUTC=JDUTC, hip_id=8102, lat=-30.169283, longi=-70.806789, alt=2241.9, ephemeris='de430', zmeas=0.0)\n",
    "        ##get_BC_vel? => JDUTC, starname='',hip_id=None,ra=None,dec=None,epoch=None,pmra=None,pmdec=None,px=None,rv=None,obsname='',lat=0.0,longi=0.0,alt=0.0,zmeas=0.0,ephemeris='de430',leap_dir='/opt/anaconda3/lib/python3.8/site-packages/barycorrpy/data',leap_update=True,predictive=False,SolSystemTarget=None,HorizonsID_type='smallbody',\n",
    "\n",
    "\n",
    "        if np.isclose(a = result[0], b = 15403.9508, atol = 1e-2, rtol = 0): \n",
    "            a.append('result')\n",
    "            b+=1\n",
    "            # 15403.95083409 is the actual barycentric RV for this given star\n",
    "            # result[0] is the barycentric RV in m/s that get_BC_vel spits out\n",
    "\n",
    "\n",
    "        # Observation of Tau Ceti taken from CTIO on JD 2458000. Observatory location taken from Astropy list.\n",
    "        # Stellar positional parameters taken from Hipparcos Catalogue\n",
    "        JDUTC = Time(2458000, format='jd', scale='utc')\n",
    "        result2  = get_BC_vel(JDUTC=JDUTC, hip_id=8102, obsname='CTIO', ephemeris='de430')\n",
    "\n",
    "        if np.isclose(a = result2[0], b = 15403.9608, atol = 1e-2, rtol = 0):\n",
    "            a.append('result2')\n",
    "            b+=1\n",
    "\n",
    "        # Observation of Tau Ceti taken from CTIO on JD 2458000,2458010,2458020.\n",
    "        # Observatory and stellar parameters entered by user.\n",
    "        # Use DE405 ephemeris ,default is de430\n",
    "    \n",
    "        ra=26.0213645867     #Right Ascension in degrees \n",
    "        dec=-15.9395557246   #Declination in degrees\n",
    "        obsname=''           #Name of Observatory \n",
    "        lat=-30.169283       #Lattitude of Observatory\n",
    "        longi=-70.806789     #Longitude of Observatory\n",
    "        alt=2241.9           #Altitude of Observatory\n",
    "        epoch = 2451545.0    #Epoch\n",
    "        pmra = -1721.05      #Proper motion in RA [mas/year]. Eg. PMRA = d(RA)/dt * cos(dec). Default is 0. [mas] = milli arcsecond \n",
    "        pmdec = 854.16       #Proper motion in Dec [mas/year]. Default is 0. [mas] = milli arcsecond\n",
    "        px = 273.96          #Parallax of target [mas]. Default is 0.  [mas] = milli arcsecond\n",
    "        \n",
    "        rv = 0.0             #Radial Velocity of Target [m/s]. Default is 0. This is the bulk RV (systemic) of the target at the ~100 km/s precision. \n",
    "                             ##Can be ignored for most targets but for high velocity stars. \n",
    "                             ###This does not include the barycentric velocity and is only required to correct for proper motion and secular acceleration.\n",
    "        \n",
    "        zmeas=0.0            #Measured redshift (e.g., the result of cross correlation with template spectrum). Default is 0.\n",
    "                             ##The redshift measured by the spectrograph before any barycentric correction. \n",
    "                             ###Therefore zmeas includes the barycentric velocity of the observatory.\n",
    "        JDUTC=[2458000,2458000.00001,2458000.00002] # Can also enter JDUTC as float instead of Astropy Time Object\n",
    "        ephemeris='https://naif.jpl.nasa.gov/pub/naif/generic_kernels/spk/planets/a_old_versions/de405.bsp'\n",
    "\n",
    "        result3=get_BC_vel(JDUTC=JDUTC, ra=ra, dec=dec, obsname=obsname, lat=lat, longi=longi, alt=alt, pmra=pmra,\n",
    "            pmdec=pmdec, px=px, rv=rv, zmeas=zmeas,epoch=epoch, ephemeris=ephemeris, leap_update=True)\n",
    "\n",
    "        if np.allclose([result3[0][0],result3[0][1],result3[0][2]],[15407.4860,15407.4723,15407.4586],atol = 1e-2, rtol = 0):\n",
    "            a.append('result3')\n",
    "            b+=1\n",
    "\n",
    "\n",
    "\n",
    "        # Exposure meter calculation\n",
    "        \"In BCPy, we have now included a function which takes an array with the flux values at each of the JDUTC time steps (flux time stamp from Exposure meter)\"\n",
    "        \"and uses that to calculate the weighted barycentric velocity for the observation.\"\n",
    "        \"Therefore the correction is calculated at each JDUTC and an average weighted by the exposure meter fluxes is returned.\"\n",
    "        \"The Exposure meter should have a cadence of minimum 1 min for cm/s.\"\n",
    "        \n",
    "        \"The difference between result3 and result4 is that in result4 they are not 3 separate observation times, but the various exposure meter time stamps\"\n",
    "        \"(i.e. flux time stamps) which are being used to correct for changes in the flux level (as observed by exposure meter) during a single observation\" \n",
    "        \"Further the 4th result contains the JDUTCMID, the flux weighted midpoint of the observation.\"\n",
    "        \n",
    "        \"Calculate Barycentric velocity weighted by flux from exposure meter to account for long exposure time.\"\n",
    "        \"Enter JDUTC and expmeterflux (exposure meter flux) from exposure meter readings to calculate barycentric velocity correction for exposure.\"\n",
    "        flux = [4.5,1.5,2] # Same number of elements as JDUTC\n",
    "                           ##JDUTCMID is the flux weighted midpoint of the observation\n",
    "\n",
    "        result4,JDUTCMID,warning4,status4=exposure_meter_BC_vel(JDUTC=JDUTC, expmeterflux = flux,\n",
    "            ra=ra, dec=dec, obsname=obsname, lat=lat, longi=longi, alt=alt, pmra=pmra,\n",
    "            pmdec=pmdec, px=px, rv=rv, zmeas=zmeas, epoch=epoch, ephemeris=ephemeris, leap_update=True)  #leap_update checks for updated Leaps files. True will use the newest one\n",
    "\n",
    "        if np.isclose(a = result4, b = 15407.4765, atol = 1e-2, rtol = 0):\n",
    "            a.append('result4')\n",
    "            b+=1\n",
    "            \n",
    "\n",
    "        # JDUTC to BJDTDB time converter\n",
    "        corr_time = utc_tdb.JDUTC_to_BJDTDB(JDUTC, hip_id=8102, lat=-30.169283, longi=-70.806789, alt=2241.9)\n",
    "\n",
    "        if np.allclose([corr_time[0]], [2458000.00505211,  2458000.00506211,  2458000.00507211], atol = 1e-7, rtol = 0):\n",
    "            a.append('corr_time')\n",
    "            b+=1\n",
    "\n",
    "        # Predictive Mode\n",
    "        result5 = get_BC_vel(JDUTC=2458000, hip_id=8102, lat=-30.169283, longi=-70.806789, alt=2241.9, ephemeris='de430', zmeas=0.0, predictive=True)\n",
    "\n",
    "        if np.isclose(a = result5[0], b = -15403.15938, atol = 1e-2, rtol = 0):\n",
    "            a.append('result5')\n",
    "            b+=1\n",
    "\n",
    "        result6 = get_BC_vel(JDUTC=2458000, lat=-30.169138888, longi=-70.805888, alt=2379.5, zmeas=0.0, SolSystemTarget='Sun')\n",
    "\n",
    "        if np.isclose(a=result6[0], b=819.4474, atol=1e-2, rtol=0):\n",
    "            a.append('result6')\n",
    "            b+=1\n",
    "\n",
    "\n",
    "        if b==7:\n",
    "            print('***********SUCCESS**************\\nAll barycentric correction velocities match expected values to 1 cm/s\\n')\n",
    "        else:\n",
    "            print('{} out of 6 results match. Compare outputs vs those on the github wiki. Check others - \\n'.format(b,a))\n",
    "\n",
    "        return result, result2, result3, result4, JDUTCMID, warning4, status4, corr_time, result5, result6\n",
    "        "
   ]
  },
  {
   "cell_type": "code",
   "execution_count": 8,
   "metadata": {},
   "outputs": [
    {
     "name": "stdout",
     "output_type": "stream",
     "text": [
      "***********SUCCESS**************\n",
      "All barycentric correction velocities match expected values to 1 cm/s\n",
      "\n"
     ]
    },
    {
     "data": {
      "text/plain": [
       "((array([15403.95083409]),\n",
       "  [['Warning: Assuming input time is in UTC JD. Pass astropy Time object to avoid this warning.'],\n",
       "   'Following are the stellar positional parameters being used - ',\n",
       "   {'ra': 26.021364586713265,\n",
       "    'dec': -15.939555724635493,\n",
       "    'pmra': -1721.05,\n",
       "    'pmdec': 854.16,\n",
       "    'px': 273.96,\n",
       "    'epoch': 2448349.0625},\n",
       "   [],\n",
       "   []],\n",
       "  1),\n",
       " (array([15403.96081446]),\n",
       "  ['Warning: Taking observatory coordinates from Astropy Observatory database. Verify precision. Latitude = -30.165278  Longitude = -70.815000  Altitude = 2215.000000',\n",
       "   'Following are the stellar positional parameters being used - ',\n",
       "   {'ra': 26.021364586713265,\n",
       "    'dec': -15.939555724635493,\n",
       "    'pmra': -1721.05,\n",
       "    'pmdec': 854.16,\n",
       "    'px': 273.96,\n",
       "    'epoch': 2448349.0625},\n",
       "   [],\n",
       "   []],\n",
       "  1),\n",
       " (array([15407.48590935, 15407.47225001, 15407.45859206]),\n",
       "  [['Warning: Assuming input time is in UTC JD. Pass astropy Time object to avoid this warning.'],\n",
       "   'Following are the stellar positional parameters being used - ',\n",
       "   {'ra': 26.0213645867,\n",
       "    'dec': -15.9395557246,\n",
       "    'pmra': -1721.05,\n",
       "    'pmdec': 854.16,\n",
       "    'px': 273.96,\n",
       "    'rv': 0.0,\n",
       "    'epoch': 2451545.0},\n",
       "   [],\n",
       "   [],\n",
       "   [],\n",
       "   [],\n",
       "   [],\n",
       "   []],\n",
       "  1),\n",
       " 15407.476518901341,\n",
       " 2458000.000006875,\n",
       " [['Warning: Assuming input time is in UTC JD. Pass astropy Time object to avoid this warning.'],\n",
       "  'Following are the stellar positional parameters being used - ',\n",
       "  {'ra': 26.0213645867,\n",
       "   'dec': -15.9395557246,\n",
       "   'pmra': -1721.05,\n",
       "   'pmdec': 854.16,\n",
       "   'px': 273.96,\n",
       "   'rv': 0.0,\n",
       "   'epoch': 2451545.0},\n",
       "  [],\n",
       "  [],\n",
       "  [],\n",
       "  [],\n",
       "  [],\n",
       "  []],\n",
       " 1,\n",
       " (array([2458000.00505211, 2458000.00506211, 2458000.00507211]),\n",
       "  [['Warning: Float JDUTC entered. Verify time scale (UTC) and format (JD)'],\n",
       "   'Following are the stellar positional parameters being used - ',\n",
       "   {'ra': 26.021364586713265,\n",
       "    'dec': -15.939555724635493,\n",
       "    'pmra': -1721.05,\n",
       "    'pmdec': 854.16,\n",
       "    'px': 273.96,\n",
       "    'rv': 0.0,\n",
       "    'epoch': 2448349.0625},\n",
       "   [],\n",
       "   [],\n",
       "   [],\n",
       "   [],\n",
       "   [],\n",
       "   []],\n",
       "  1),\n",
       " (array([-15403.15938819]),\n",
       "  [['Warning: Assuming input time is in UTC JD. Pass astropy Time object to avoid this warning.'],\n",
       "   'Following are the stellar positional parameters being used - ',\n",
       "   {'ra': 26.021364586713265,\n",
       "    'dec': -15.939555724635493,\n",
       "    'pmra': -1721.05,\n",
       "    'pmdec': 854.16,\n",
       "    'px': 273.96,\n",
       "    'epoch': 2448349.0625},\n",
       "   [],\n",
       "   []],\n",
       "  1),\n",
       " (array([819.44741696]),\n",
       "  [['Warning: Assuming input time is in UTC JD. Pass astropy Time object to avoid this warning.'],\n",
       "   [],\n",
       "   []],\n",
       "  1))"
      ]
     },
     "execution_count": 8,
     "metadata": {},
     "output_type": "execute_result"
    }
   ],
   "source": [
    "#Now to see the results\n",
    "(run_sample())"
   ]
  },
  {
   "cell_type": "markdown",
   "metadata": {},
   "source": [
    "Moving on..\n",
    "You can also choose a star and get all of it's stellar data from SIMBAD."
   ]
  },
  {
   "cell_type": "code",
   "execution_count": 9,
   "metadata": {},
   "outputs": [
    {
     "data": {
      "text/plain": [
       "({'ra': 217.42893791666663,\n",
       "  'dec': -62.679491666666664,\n",
       "  'pmra': -3781.306,\n",
       "  'pmdec': 769.766,\n",
       "  'px': 768.5004,\n",
       "  'rv': None,\n",
       "  'epoch': 2451545.0},\n",
       " ['Proxima B queried from SIMBAD.',\n",
       "  'Masked values present in queried dataset',\n",
       "  \"Values queried from SIMBAD are {'ra': 217.42893791666663, 'dec': -62.679491666666664, 'pmra': -3781.306, 'pmdec': 769.766, 'px': 768.5004, 'rv': None, 'epoch': 2451545.0}\"])"
      ]
     },
     "execution_count": 9,
     "metadata": {},
     "output_type": "execute_result"
    }
   ],
   "source": [
    "from barycorrpy.utils import get_stellar_data\n",
    "get_stellar_data(\"Proxima B\")"
   ]
  },
  {
   "cell_type": "markdown",
   "metadata": {},
   "source": [
    "Moving on..Additionally Barycorrpy also comes with a JDUTC to BJDTDB converter"
   ]
  },
  {
   "cell_type": "markdown",
   "metadata": {},
   "source": [
    "JDUTC to BJDTDB converter"
   ]
  },
  {
   "cell_type": "markdown",
   "metadata": {},
   "source": [
    "Include the following:\n",
    "\n",
    "1. Clock Correction - To correct for difference between UTC and TDB time scales.\n",
    "2. Geometric Correction - Light travel time from observatory to Solar System Barycenter.\n",
    "3. Einstein Correction - Relativistic correction since Earth is not an inertial frame."
   ]
  },
  {
   "cell_type": "code",
   "execution_count": 10,
   "metadata": {},
   "outputs": [
    {
     "data": {
      "text/plain": [
       "(array([2458000.00505211]),\n",
       " ['Following are the stellar positional parameters being used - ',\n",
       "  {'ra': 26.021364586713265,\n",
       "   'dec': -15.939555724635493,\n",
       "   'pmra': -1721.05,\n",
       "   'pmdec': 854.16,\n",
       "   'px': 273.96,\n",
       "   'rv': 0.0,\n",
       "   'epoch': 2448349.0625},\n",
       "  [],\n",
       "  []],\n",
       " 1)"
      ]
     },
     "execution_count": 10,
     "metadata": {},
     "output_type": "execute_result"
    }
   ],
   "source": [
    "from astropy.time import Time\n",
    "from barycorrpy import utc_tdb\n",
    "JDUTC = Time(2458000, format='jd', scale='utc')\n",
    "utc_tdb.JDUTC_to_BJDTDB(JDUTC,hip_id=8102, lat=-30.169283, longi=-70.806789, alt=2241.9)\n",
    "#array is the conversion of JD 2458000 to BJD"
   ]
  },
  {
   "cell_type": "markdown",
   "metadata": {},
   "source": [
    "For Context JDUTC is Julian Date and Universal Coordinate Time and BJDTBD is Barycentric Julian Dates and Barycentric Dynamical Time\")"
   ]
  },
  {
   "cell_type": "code",
   "execution_count": null,
   "metadata": {},
   "outputs": [],
   "source": [
    "exposure_meter_BC_vel?"
   ]
  },
  {
   "cell_type": "code",
   "execution_count": null,
   "metadata": {},
   "outputs": [],
   "source": []
  },
  {
   "cell_type": "code",
   "execution_count": null,
   "metadata": {},
   "outputs": [],
   "source": []
  },
  {
   "cell_type": "code",
   "execution_count": null,
   "metadata": {},
   "outputs": [],
   "source": []
  },
  {
   "cell_type": "code",
   "execution_count": null,
   "metadata": {},
   "outputs": [],
   "source": []
  },
  {
   "cell_type": "code",
   "execution_count": null,
   "metadata": {},
   "outputs": [],
   "source": []
  },
  {
   "cell_type": "code",
   "execution_count": null,
   "metadata": {},
   "outputs": [],
   "source": []
  },
  {
   "cell_type": "code",
   "execution_count": null,
   "metadata": {},
   "outputs": [],
   "source": []
  },
  {
   "cell_type": "code",
   "execution_count": null,
   "metadata": {},
   "outputs": [],
   "source": []
  },
  {
   "cell_type": "code",
   "execution_count": null,
   "metadata": {},
   "outputs": [],
   "source": []
  },
  {
   "cell_type": "code",
   "execution_count": null,
   "metadata": {},
   "outputs": [],
   "source": []
  },
  {
   "cell_type": "code",
   "execution_count": null,
   "metadata": {},
   "outputs": [],
   "source": []
  },
  {
   "cell_type": "code",
   "execution_count": null,
   "metadata": {},
   "outputs": [],
   "source": []
  },
  {
   "cell_type": "code",
   "execution_count": null,
   "metadata": {},
   "outputs": [],
   "source": []
  },
  {
   "cell_type": "code",
   "execution_count": null,
   "metadata": {},
   "outputs": [],
   "source": [
    "batman = get_BC_vel(JDUTC=JDUTC, hip_id=8102, lat=-30.169283, longi=-70.806789, alt=2241.9, ephemeris='de430', zmeas=0.0)\n",
    "(batman)\n",
    "\n"
   ]
  },
  {
   "cell_type": "code",
   "execution_count": null,
   "metadata": {},
   "outputs": [],
   "source": []
  }
 ],
 "metadata": {
  "kernelspec": {
   "display_name": "Python 3",
   "language": "python",
   "name": "python3"
  },
  "language_info": {
   "codemirror_mode": {
    "name": "ipython",
    "version": 3
   },
   "file_extension": ".py",
   "mimetype": "text/x-python",
   "name": "python",
   "nbconvert_exporter": "python",
   "pygments_lexer": "ipython3",
   "version": "3.8.5"
  }
 },
 "nbformat": 4,
 "nbformat_minor": 4
}
